{
 "cells": [
  {
   "cell_type": "code",
   "execution_count": 16,
   "metadata": {},
   "outputs": [
    {
     "name": "stdout",
     "output_type": "stream",
     "text": [
      "(56282, 4) 55149\n"
     ]
    }
   ],
   "source": [
    "import numpy as np\n",
    "\n",
    "#load the labeled segments.\n",
    "home =r'/home/naresh-1/workspace/machinelrn/data/gis/'\n",
    "srcshpfile = home + r'out/usa.shp'\n",
    "destdir = home+'out/'\n",
    "\n",
    "inputfile = 'usa.prj.lbl.txn.int.txt'\n",
    "segments = np.loadtxt(destdir+inputfile,comments='#',dtype=object)\n",
    "segments.shape\n",
    "endpoints = segments[:,1:5]\n",
    "endpoints.shape\n",
    "endpoints = endpoints.astype(int)\n",
    "#merge both x1,x2 --> get unique x-values\n",
    "xuniq = sorted(list(np.unique(np.vstack((endpoints[0:,0:1],endpoints[0:,2:3])))))\n",
    "print endpoints.shape, len(xuniq)\n",
    "\n",
    "#find unique x-values."
   ]
  },
  {
   "cell_type": "code",
   "execution_count": 17,
   "metadata": {},
   "outputs": [
    {
     "data": {
      "text/plain": [
       "(array([1258460509, 2180444978, 1258468012, 2180444978]),\n",
       " array([ 615227493, 1834173030,  615232153, 1834173030]),\n",
       " (56282, 4))"
      ]
     },
     "execution_count": 17,
     "metadata": {},
     "output_type": "execute_result"
    }
   ],
   "source": [
    "#maximum and minimum for the map.\n",
    "endpoints.max(axis=0), endpoints.min(axis=0), endpoints.shape"
   ]
  },
  {
   "cell_type": "code",
   "execution_count": 19,
   "metadata": {},
   "outputs": [
    {
     "name": "stdout",
     "output_type": "stream",
     "text": [
      "(56282, 4) 56282\n",
      "92.7873361111\n"
     ]
    }
   ],
   "source": [
    "#arrange segments (x1,y1)--(x2,y2) such that x1<x2.\n",
    "#remove duplicates\n",
    "uniqseg = []\n",
    "import time\n",
    "st = time.time()\n",
    "for seg in endpoints:\n",
    "    x1,y1,x2,y2 = seg\n",
    "    if x1 < x2:\n",
    "        oseg = [x1,y1,x2,y2]\n",
    "    else:\n",
    "        oseg = [x2,y2,x1,y1]\n",
    "    if oseg not in uniqseg:\n",
    "        uniqseg.append(oseg)\n",
    "\n",
    "print endpoints.shape, len(uniqseg)\n",
    "print time.time()-st"
   ]
  },
  {
   "cell_type": "code",
   "execution_count": 29,
   "metadata": {},
   "outputs": [
    {
     "name": "stdout",
     "output_type": "stream",
     "text": [
      "56282 627084\n"
     ]
    }
   ],
   "source": [
    "#split segments.\n",
    "splits = []\n",
    "\n",
    "for segment in uniqseg:\n",
    "    x1,y1,x2,y2 = segment\n",
    "    li = xuniq.index(x1)\n",
    "    hi = xuniq.index(x2)\n",
    "    if hi-li < 2:\n",
    "        splits.append(segment)\n",
    "    else:\n",
    "        yc = y1\n",
    "        for i in range(li,hi):\n",
    "            xc = xuniq[i]\n",
    "            xn = xuniq[i+1]\n",
    "            if xn < x2:\n",
    "                y=float(y2-y1)/(x2-x1)*(xn-x1)+y1\n",
    "                yn=int(round(y))\n",
    "                splits.append([xc,yc,xn,yn])\n",
    "                yc=yn\n",
    "            elif xn == x2:splits.append([xc,yc,xn,y2])\n",
    "print len(uniqseg),len(splits)"
   ]
  },
  {
   "cell_type": "code",
   "execution_count": 30,
   "metadata": {},
   "outputs": [
    {
     "name": "stdout",
     "output_type": "stream",
     "text": [
      "55149 56282 627084 11\n"
     ]
    }
   ],
   "source": [
    "print len(xuniq), len(uniqseg),len(splits),len(splits)/len(uniqseg)"
   ]
  },
  {
   "cell_type": "code",
   "execution_count": 31,
   "metadata": {
    "collapsed": true
   },
   "outputs": [],
   "source": [
    "xdict={}##now add all split lines to a dictionary\n",
    "for i in range(len(xuniq)-1):\n",
    "    xl=xuniq[i]\n",
    "    xh=xuniq[i+1]\n",
    "    xdict[xl]=[]\n",
    "xdict[xh]=[] #add last ite,\n",
    "for i in range(len(splits)):\n",
    "    x1=splits[i][0]\n",
    "    y1=splits[i][1]\n",
    "    x2=splits[i][2]\n",
    "    y2=splits[i][3]\n",
    "    if y1<y2:\n",
    "        #xdict[x1].append((y1,y2))\n",
    "        xdict[x1]+=[y1,y2]\n",
    "    else:\n",
    "        xdict[x1]+=[y2,y1]"
   ]
  },
  {
   "cell_type": "code",
   "execution_count": 32,
   "metadata": {},
   "outputs": [
    {
     "name": "stdout",
     "output_type": "stream",
     "text": [
      "[2109973028, 2110019235, 2053413293, 2053413492]\n",
      "[2173905348, 2173905365, 1881964331, 1882002491]\n",
      "[2058716611, 2058719133, 2057337166, 2057341003, 2086492960, 2086494262, 2086437037, 2086457721, 2086434671, 2086437037, 2126242682, 2126243321, 2127356562, 2127358278, 2128100725, 2128102553, 2122772973, 2122774894, 2124011696, 2124012912]\n",
      "[1845212224, 1845215506, 1910317497, 1910320573, 1910764886, 1910793870, 1907401746, 1907457647, 1907761794, 1907795341, 2057764242, 2057773217]\n",
      "[2173901954, 2173901972, 1895015439, 1895019841]\n",
      "[2020510228, 2020510229, 2019495131, 2019496895, 2019053917, 2019056206, 2019991681, 2019993682, 2023259324, 2023261532, 2023402210, 2023403424, 2023799564, 2023803285, 2024715380, 2024718924, 2014687216, 2014691377, 2014677708, 2014683049, 2014605596, 2014605817, 2014574307, 2014577082, 2014451707, 2014455200, 2013844145, 2013844639, 2015864470, 2015867244, 2015632565, 2015633001, 2009518081, 2009521966, 2008483912, 2008487390, 2008627088, 2008629381, 2009862762, 2009865938, 2009590053, 2009591941, 2009151309, 2009152565, 2009089275, 2009090731, 1981345578, 1981345672, 1980837991, 1980842472, 1978901545, 1978901615, 1968293868, 1968294830, 1977114768, 1977116142, 1990019141, 1990019884, 2091391856, 2091392556, 2093285096, 2093286529, 2092812970, 2092815971, 2092735319, 2092739073, 2092670601, 2092671996, 2094223478, 2094224050, 2096839151, 2096841451]\n",
      "[1897330505, 1897330916, 2106125733, 2106142064, 2106051974, 2106125733, 2106039354, 2106045661]\n",
      "[2008350530, 2008351696, 2009851216, 2009851515, 2009144779, 2009147096, 2009044878, 2009045408, 2008925375, 2008927762, 2006979522, 2006980715, 2006968256, 2006968972, 2006917703, 2006918225, 2007766597, 2007767057, 1980035641, 1980036995, 1971263725, 1971263929, 1976862549, 1976862842, 1981764144, 1981766204, 1983861917, 1983862659, 1986245909, 1986248868, 2099013982, 2099015059]\n",
      "[2063192248, 2063196175, 2063015171, 2063017055, 2062944880, 2062946811, 2063294975, 2063299459, 2062026224, 2062027827, 2056070552, 2056071318, 2072242561, 2072246085, 2073210650, 2073219483, 2073218206, 2073219483, 2072807885, 2072808087, 2080378044, 2080386747, 2118439339, 2118440134]\n",
      "[1836979129, 1836989112, 1920452059, 1920457926, 1890366876, 1890381407, 2060246802, 2060249134]\n"
     ]
    }
   ],
   "source": [
    "for key in xdict.keys()[0:10]:\n",
    "    print xdict[key]\n",
    "    xdict[key]= list(set(xdict[key]))"
   ]
  },
  {
   "cell_type": "code",
   "execution_count": 27,
   "metadata": {},
   "outputs": [
    {
     "data": {
      "text/plain": [
       "55149"
      ]
     },
     "execution_count": 27,
     "metadata": {},
     "output_type": "execute_result"
    }
   ],
   "source": [
    "len(xdict)"
   ]
  },
  {
   "cell_type": "code",
   "execution_count": 23,
   "metadata": {},
   "outputs": [
    {
     "data": {
      "text/plain": [
       "(58, 0, 627084)"
      ]
     },
     "execution_count": 23,
     "metadata": {},
     "output_type": "execute_result"
    }
   ],
   "source": [
    "size=[]\n",
    "for x,ylist in xdict.items():\n",
    "    size +=[len(ylist)]\n",
    "max(size),min(size), sum(size)"
   ]
  },
  {
   "cell_type": "code",
   "execution_count": 24,
   "metadata": {},
   "outputs": [
    {
     "name": "stdout",
     "output_type": "stream",
     "text": [
      "{2: [(1, 2), (3, 3)], 3: [3, 4, 5]}\n"
     ]
    }
   ],
   "source": [
    "d={}\n",
    "d[2]=[(1,2),(3,3),(1,2),(3,3)]\n",
    "d[3]=[3,4,4,4,5]\n",
    "for k in d.keys():\n",
    "    d[k] = list(set(d[k]))\n",
    "print d"
   ]
  },
  {
   "cell_type": "code",
   "execution_count": null,
   "metadata": {
    "collapsed": true
   },
   "outputs": [],
   "source": []
  }
 ],
 "metadata": {
  "kernelspec": {
   "display_name": "Python 2",
   "language": "python",
   "name": "python2"
  },
  "language_info": {
   "codemirror_mode": {
    "name": "ipython",
    "version": 2
   },
   "file_extension": ".py",
   "mimetype": "text/x-python",
   "name": "python",
   "nbconvert_exporter": "python",
   "pygments_lexer": "ipython2",
   "version": "2.7.15"
  }
 },
 "nbformat": 4,
 "nbformat_minor": 1
}
