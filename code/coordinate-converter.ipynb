{
 "cells": [
  {
   "cell_type": "code",
   "execution_count": 1,
   "metadata": {
    "collapsed": false
   },
   "outputs": [],
   "source": [
    "#!/usr/bin/python\n",
    "'''Data Source:\n",
    "http://guides.lib.purdue.edu/c.php?g=353290&p=2378621#Mississippi\n",
    "'''\n",
    "import os\n",
    "from  osgeo import ogr, osr\n",
    "\n",
    "def convert_cordinates(srcshapefile,destshapefile,target_epsg):\n",
    "    srcshpfile=srcshapefile\n",
    "    outputShapefile=destshapefile\n",
    "    driver = ogr.GetDriverByName('ESRI Shapefile')\n",
    "    shp = driver.Open(srcshpfile)\n",
    "    layer = shp.GetLayer()\n",
    "    sourceSpatialRef = layer.GetSpatialRef()\n",
    "    outprjrefwm = osr.SpatialReference()\n",
    "    if sourceSpatialRef.IsProjected:\n",
    "        datum=sourceSpatialRef.GetAttrValue('GEOGCS|DATUM')\n",
    "        if 'North_American_Datum_1983' in datum:\n",
    "            outprjrefwm.ImportFromEPSG(target_epsg)\n",
    "    transform= osr.CoordinateTransformation(sourceSpatialRef,outprjrefwm)\n",
    "    #saving layer\n",
    "    if os.path.exists(outputShapefile):\n",
    "        driver.DeleteDataSource(outputShapefile)\n",
    "    outDataSet = driver.CreateDataSource(outputShapefile)\n",
    "    outLayer = outDataSet.CreateLayer(\"prjstates\",outprjrefwm,geom_type=ogr.wkbMultiPolygon)\n",
    "    # add fields\n",
    "    inLayerDefn = layer.GetLayerDefn()\n",
    "    for i in range(0, inLayerDefn.GetFieldCount()):\n",
    "        fieldDefn = inLayerDefn.GetFieldDefn(i)\n",
    "        outLayer.CreateField(fieldDefn)\n",
    "    outLayerDefn = outLayer.GetLayerDefn()\n",
    "\n",
    "    #read the features one by one.\n",
    "    inFeature = layer.GetNextFeature()\n",
    "    while inFeature:\n",
    "        inputGeom = inFeature.GetGeometryRef()\n",
    "        # get the cover attribute for the input feature\n",
    "        inputGeom.TransformTo(outprjrefwm) #to WGS84/Pseudo Mercator\n",
    "        outFeature = ogr.Feature(outLayerDefn)\n",
    "        outFeature.SetGeometry(inputGeom)\n",
    "        for i in range(0, outLayerDefn.GetFieldCount()):\n",
    "            outFeature.SetField(outLayerDefn.GetFieldDefn(i).GetNameRef(), inFeature.GetField(i))\n",
    "        outLayer.CreateFeature(outFeature)\n",
    "        inFeature = None\n",
    "        inFeature = layer.GetNextFeature()\n",
    "    shp = None\n",
    "    outDataSet = None\n",
    "    print(\"completed cordinate transform.\")\n",
    "\n",
    "#%matplotlib inline  \n",
    "# Import the necessary modules\n",
    "epsgdic = {'nad83':4269,'wgs84':4326,'pseudoutm':3857,'worldmercater':3395}\n",
    "home =r'/home/naresh-1/workspace/machinelrn/data/gis/'\n",
    "srcshpfile = home + r'out/usa.shp'\n",
    "outputShapefile = home+ r'out/prj_usa.shp'\n",
    "#convert_cordinates(srcshpfile,outputShapefile,epsgdic['worldmercater'])"
   ]
  },
  {
   "cell_type": "code",
   "execution_count": 6,
   "metadata": {
    "collapsed": false
   },
   "outputs": [
    {
     "data": {
      "text/plain": [
       "'c'"
      ]
     },
     "execution_count": 6,
     "metadata": {},
     "output_type": "execute_result"
    }
   ],
   "source": [
    "import ntpath\n",
    "ntpath.basename(\"a/b/c.txt\").split(\".\")[0]\n"
   ]
  },
  {
   "cell_type": "code",
   "execution_count": null,
   "metadata": {
    "collapsed": true
   },
   "outputs": [],
   "source": []
  }
 ],
 "metadata": {
  "kernelspec": {
   "display_name": "Python 2",
   "language": "python",
   "name": "python2"
  },
  "language_info": {
   "codemirror_mode": {
    "name": "ipython",
    "version": 2
   },
   "file_extension": ".py",
   "mimetype": "text/x-python",
   "name": "python",
   "nbconvert_exporter": "python",
   "pygments_lexer": "ipython2",
   "version": "2.7.5"
  }
 },
 "nbformat": 4,
 "nbformat_minor": 0
}
