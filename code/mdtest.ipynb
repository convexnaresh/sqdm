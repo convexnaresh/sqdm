{
 "cells": [
  {
   "cell_type": "code",
   "execution_count": 5,
   "metadata": {
    "collapsed": false
   },
   "outputs": [
    {
     "ename": "NameError",
     "evalue": "name 'hasher' is not defined",
     "output_type": "error",
     "traceback": [
      "\u001b[1;31m---------------------------------------------------------------------------\u001b[0m",
      "\u001b[1;31mNameError\u001b[0m                                 Traceback (most recent call last)",
      "\u001b[1;32m<ipython-input-5-f778f1928621>\u001b[0m in \u001b[0;36m<module>\u001b[1;34m()\u001b[0m\n\u001b[0;32m      1\u001b[0m \u001b[1;31m# Only 8 hex digits of precision (8 digits * 4 bits = 32-bits)\u001b[0m\u001b[1;33m\u001b[0m\u001b[1;33m\u001b[0m\u001b[0m\n\u001b[1;32m----> 2\u001b[1;33m \u001b[1;32mprint\u001b[0m \u001b[0mint\u001b[0m\u001b[1;33m(\u001b[0m\u001b[0mhasher\u001b[0m\u001b[1;33m.\u001b[0m\u001b[0mhexdigest\u001b[0m\u001b[1;33m(\u001b[0m\u001b[1;33m)\u001b[0m\u001b[1;33m[\u001b[0m\u001b[1;33m:\u001b[0m\u001b[1;36m8\u001b[0m\u001b[1;33m]\u001b[0m\u001b[1;33m,\u001b[0m \u001b[1;36m16\u001b[0m\u001b[1;33m)\u001b[0m\u001b[1;33m\u001b[0m\u001b[0m\n\u001b[0m\u001b[0;32m      3\u001b[0m \u001b[1;33m\u001b[0m\u001b[0m\n\u001b[0;32m      4\u001b[0m \u001b[1;31m# Only values between 0 and 99999\u001b[0m\u001b[1;33m\u001b[0m\u001b[1;33m\u001b[0m\u001b[0m\n\u001b[0;32m      5\u001b[0m \u001b[1;32mprint\u001b[0m \u001b[0mint\u001b[0m\u001b[1;33m(\u001b[0m\u001b[0mhasher\u001b[0m\u001b[1;33m.\u001b[0m\u001b[0mhexdigest\u001b[0m\u001b[1;33m(\u001b[0m\u001b[1;33m)\u001b[0m\u001b[1;33m,\u001b[0m \u001b[1;36m16\u001b[0m\u001b[1;33m)\u001b[0m \u001b[1;33m%\u001b[0m \u001b[1;36m100000\u001b[0m\u001b[1;33m\u001b[0m\u001b[0m\n",
      "\u001b[1;31mNameError\u001b[0m: name 'hasher' is not defined"
     ]
    }
   ],
   "source": [
    "# Only 8 hex digits of precision (8 digits * 4 bits = 32-bits) \n",
    "print int(hasher.hexdigest()[:8], 16)\n",
    "\n",
    "# Only values between 0 and 99999\n",
    "print int(hasher.hexdigest(), 16) % 100000"
   ]
  },
  {
   "cell_type": "code",
   "execution_count": 188,
   "metadata": {
    "collapsed": false
   },
   "outputs": [],
   "source": [
    "class Sc:\n",
    "\n",
    "    def __init__(self,key=None,nkey=None,val=None,type_=None,posx=None,posy=None,dic={}):\n",
    "        self.key = key\n",
    "        self.nkey = nkey\n",
    "        self.val = val\n",
    "        self.type_=type_\n",
    "        self.posx = posx\n",
    "        self.posy = posy\n",
    "        if dic:\n",
    "            self.key = dic[\"key\"]\n",
    "            self.nkey = dic[\"nkey\"]\n",
    "            self.val = dic[\"val\"]\n",
    "            self.type_= dic[\"type_\"]\n",
    "            self.posx = dic[\"posx\"]\n",
    "            self.posy = dic[\"posy\"]\n",
    "    def __str__(self):\n",
    "        return str(self.castDict())\n",
    "    def castDict(self):\n",
    "        return {\"key\":self.key,\"nkey\":self.nkey,\"val\":self.val,\"type_\":self.type_,\"posx\":self.posx,\"posy\":self.posy}\n",
    "    \n",
    "from pymongo import MongoClient\n",
    "import datetime\n",
    "import hashlib\n",
    "import dlsbuilder as DLSB\n",
    "reload(DLSB)\n",
    "\n",
    "client = MongoClient(\"mongodb://localhost:27017\")\n",
    "db = client.dlsdb #database \n",
    "test= db.test #collection x1-x2:[(y1,y2)...] i.e rectangles at each x-ord\n",
    "#Drop collection if exists.\n",
    "db.drop_collection('test')\n",
    "Scw = Sc(1,1,0,1,0,1)\n",
    "Scw={\"_id\":133,'S':{\"a\":23}}\n",
    "mapgridid=test.insert_one(Scw)"
   ]
  },
  {
   "cell_type": "code",
   "execution_count": 81,
   "metadata": {
    "collapsed": false
   },
   "outputs": [
    {
     "name": "stdout",
     "output_type": "stream",
     "text": [
      "{'key': 1, 'val': 1, 'nkey': 1, 'type_': 3, 'posx': 1, 'posy': 1}\n"
     ]
    }
   ],
   "source": [
    "a={\"key\":1,\"nkey\":1,\"val\":1,\"type_\":3,\"posx\":1,\"posy\":1}\n",
    "#ac = Sc(1,1,2,3,3,4)\n",
    "Sc = Sc(dic=a)\n",
    "print Sc"
   ]
  },
  {
   "cell_type": "code",
   "execution_count": 170,
   "metadata": {
    "collapsed": false
   },
   "outputs": [
    {
     "name": "stdout",
     "output_type": "stream",
     "text": [
      "exist\n",
      "\n",
      "Records updated successfully\n",
      "\n"
     ]
    }
   ],
   "source": [
    "try:\n",
    "    cursertest.find({\"_id\":133}):\n",
    "        print(\"exist\")\n",
    "    test.update_one(\n",
    "        {\"_id\": 1333},\n",
    "        {\n",
    "        \"$set\": {\n",
    "            \"e\":[0,0,0]\n",
    "            }\n",
    "        }\n",
    "    )\n",
    "    print \"\\nRecords updated successfully\\n\"    \n",
    "except Exception, e:\n",
    "        print str(e)"
   ]
  },
  {
   "cell_type": "code",
   "execution_count": 185,
   "metadata": {
    "collapsed": false
   },
   "outputs": [
    {
     "ename": "Exception",
     "evalue": "('Update fialed with no earlier record foud.', '0')",
     "output_type": "error",
     "traceback": [
      "\u001b[1;31m---------------------------------------------------------------------------\u001b[0m",
      "\u001b[1;31mException\u001b[0m                                 Traceback (most recent call last)",
      "\u001b[1;32m<ipython-input-185-6e48df86ceed>\u001b[0m in \u001b[0;36m<module>\u001b[1;34m()\u001b[0m\n\u001b[0;32m      3\u001b[0m     \u001b[1;32mprint\u001b[0m\u001b[1;33m(\u001b[0m\u001b[1;34m\"exists\"\u001b[0m\u001b[1;33m)\u001b[0m\u001b[1;33m\u001b[0m\u001b[0m\n\u001b[0;32m      4\u001b[0m \u001b[1;32melse\u001b[0m\u001b[1;33m:\u001b[0m\u001b[1;33m\u001b[0m\u001b[0m\n\u001b[1;32m----> 5\u001b[1;33m     \u001b[1;32mraise\u001b[0m \u001b[0mException\u001b[0m\u001b[1;33m(\u001b[0m\u001b[1;34m'Update fialed with no earlier record foud.'\u001b[0m\u001b[1;33m,\u001b[0m \u001b[1;34m'0'\u001b[0m\u001b[1;33m)\u001b[0m\u001b[1;33m\u001b[0m\u001b[0m\n\u001b[0m\u001b[0;32m      6\u001b[0m \u001b[1;32mfor\u001b[0m \u001b[0mdoc\u001b[0m \u001b[1;32min\u001b[0m \u001b[0mcurser\u001b[0m\u001b[1;33m:\u001b[0m\u001b[1;33m\u001b[0m\u001b[0m\n\u001b[0;32m      7\u001b[0m     \u001b[1;32mprint\u001b[0m\u001b[1;33m(\u001b[0m\u001b[0mdoc\u001b[0m\u001b[1;33m)\u001b[0m\u001b[1;33m\u001b[0m\u001b[0m\n",
      "\u001b[1;31mException\u001b[0m: ('Update fialed with no earlier record foud.', '0')"
     ]
    }
   ],
   "source": [
    "curser=test.find( { \"_id\": 133} )\n",
    "if curser.count():\n",
    "    print(\"exists\")\n",
    "else:\n",
    "    raise Exception('Update fialed with no earlier record foud.', '0')\n",
    "for doc in curser:\n",
    "    print(doc)"
   ]
  },
  {
   "cell_type": "code",
   "execution_count": 153,
   "metadata": {
    "collapsed": false
   },
   "outputs": [],
   "source": [
    "d = {\"a\":34}\n"
   ]
  },
  {
   "cell_type": "code",
   "execution_count": 154,
   "metadata": {
    "collapsed": false
   },
   "outputs": [
    {
     "ename": "KeyError",
     "evalue": "'a'",
     "output_type": "error",
     "traceback": [
      "\u001b[1;31m---------------------------------------------------------------------------\u001b[0m",
      "\u001b[1;31mKeyError\u001b[0m                                  Traceback (most recent call last)",
      "\u001b[1;32m<ipython-input-154-e8e2ea62a6c7>\u001b[0m in \u001b[0;36m<module>\u001b[1;34m()\u001b[0m\n\u001b[1;32m----> 1\u001b[1;33m \u001b[1;32mdel\u001b[0m \u001b[0md\u001b[0m\u001b[1;33m[\u001b[0m\u001b[1;34m\"a\"\u001b[0m\u001b[1;33m]\u001b[0m\u001b[1;33m\u001b[0m\u001b[0m\n\u001b[0m",
      "\u001b[1;31mKeyError\u001b[0m: 'a'"
     ]
    }
   ],
   "source": [
    "del d[\"a\"]"
   ]
  },
  {
   "cell_type": "code",
   "execution_count": 98,
   "metadata": {
    "collapsed": false
   },
   "outputs": [
    {
     "data": {
      "text/plain": [
       "4"
      ]
     },
     "execution_count": 98,
     "metadata": {},
     "output_type": "execute_result"
    }
   ],
   "source": [
    "x= 1<<1+1\n",
    "x"
   ]
  },
  {
   "cell_type": "code",
   "execution_count": 119,
   "metadata": {
    "collapsed": false
   },
   "outputs": [],
   "source": [
    "dbcollections=None\n",
    "import sys\n",
    "import hashlib\n",
    "if sys.version_info < (3, 6):\n",
    "    import sha3\n",
    "def h(self,*args):\n",
    "    s = hashlib.sha3_512()\n",
    "    for p in args:\n",
    "        s.update(str(p))\n",
    "    return s.hexdigest()[0:8]"
   ]
  },
  {
   "cell_type": "code",
   "execution_count": 121,
   "metadata": {
    "collapsed": false
   },
   "outputs": [
    {
     "name": "stdout",
     "output_type": "stream",
     "text": [
      "sha3_512\n"
     ]
    },
    {
     "data": {
      "text/plain": [
       "{'742b02a2': 'v'}"
      ]
     },
     "execution_count": 121,
     "metadata": {},
     "output_type": "execute_result"
    }
   ],
   "source": [
    "d={}\n",
    "A= hashlib.sha3_512()\n",
    "print A.name\n",
    "d[h(1,0,0)]=\"v\"\n",
    "d"
   ]
  },
  {
   "cell_type": "code",
   "execution_count": 122,
   "metadata": {
    "collapsed": false
   },
   "outputs": [
    {
     "data": {
      "text/plain": [
       "{'742b02a2': '3'}"
      ]
     },
     "execution_count": 122,
     "metadata": {},
     "output_type": "execute_result"
    }
   ],
   "source": [
    "d[h(1,0,0)]=\"3\"\n",
    "d"
   ]
  },
  {
   "cell_type": "code",
   "execution_count": 160,
   "metadata": {
    "collapsed": false
   },
   "outputs": [
    {
     "data": {
      "text/plain": [
       "256"
      ]
     },
     "execution_count": 160,
     "metadata": {},
     "output_type": "execute_result"
    }
   ],
   "source": [
    "128 << 1"
   ]
  },
  {
   "cell_type": "code",
   "execution_count": null,
   "metadata": {
    "collapsed": true
   },
   "outputs": [],
   "source": []
  }
 ],
 "metadata": {
  "kernelspec": {
   "display_name": "Python 2",
   "language": "python",
   "name": "python2"
  },
  "language_info": {
   "codemirror_mode": {
    "name": "ipython",
    "version": 2
   },
   "file_extension": ".py",
   "mimetype": "text/x-python",
   "name": "python",
   "nbconvert_exporter": "python",
   "pygments_lexer": "ipython2",
   "version": "2.7.5"
  }
 },
 "nbformat": 4,
 "nbformat_minor": 0
}
