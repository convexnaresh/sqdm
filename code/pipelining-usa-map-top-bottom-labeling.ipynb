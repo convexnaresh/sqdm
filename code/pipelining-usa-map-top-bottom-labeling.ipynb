{
 "cells": [
  {
   "cell_type": "code",
   "execution_count": 1,
   "metadata": {},
   "outputs": [
    {
     "name": "stdout",
     "output_type": "stream",
     "text": [
      "Completed finding all the polygons as rings in the shape file. 1 1\n",
      "time: 0.319\n"
     ]
    }
   ],
   "source": [
    "#labeling USA border segments\n",
    "#!/usr/bin/python\n",
    "import os\n",
    "from  osgeo import ogr, osr\n",
    "import pickle\n",
    "from shapely.geometry import LinearRing,Point,mapping\n",
    "import numpy as np\n",
    "import time\n",
    "import ntpath\n",
    "import math\n",
    "\n",
    "#np.set_printoptions(precision=12)\n",
    "np.set_printoptions(suppress=True)\n",
    "INF = 999\n",
    "\n",
    "def euclidian(arr_x1y1x2y2):\n",
    "    '''\n",
    "    Compute euclidian distance between points (x1,y1)--(x2,y2) in numpy array.\n",
    "    '''\n",
    "    diffs= arr_x1y1x2y2[:,0:2] - arr_x1y1x2y2[0:,2:]\n",
    "    sqsums = np.sum(diffs**2,axis=1)\n",
    "    dist = np.sqrt(sqsums)\n",
    "    dist = dist.reshape(len(dist),1)\n",
    "    return dist\n",
    "    \n",
    "def minxy(x1,y1,x2,y2):\n",
    "    return min(x1,x2), min(y1,y2)\n",
    "\n",
    "def maxxy(x1,y1,x2,y2):\n",
    "    return max(x1,x2), max(y1,y2)\n",
    "def eqsegment(seg1p1,seg1p2,seg2p1,seg2p2,labeling=False): #tuples of points\n",
    "    if not labeling:\n",
    "        s0=sorted([seg1p1,seg1p2])\n",
    "        s1=sorted([seg2p1,seg2p2])\n",
    "        if s0[0][0] == s1[0][0] and s0[0][1] == s1[0][1] and s0[1][0] == s1[1][0] and s0[1][1] == s1[1][1]:\n",
    "            return True\n",
    "        return False\n",
    "\n",
    "home =r'../'\n",
    "srcshpfile = home + r'out/usa.shp'\n",
    "destdir = home+'out/tmp/'\n",
    "driver = ogr.GetDriverByName('ESRI Shapefile')\n",
    "stat ={}\n",
    "st = time.time()\n",
    "shp = driver.Open(srcshpfile)\n",
    "inlayer = shp.GetLayer()\n",
    "inspref = inlayer.GetSpatialRef()\n",
    "#outDataSet,outLayer, outLayerDefn = createOutLayer(inlayer,None,\"segment-labeled\",inlayer.GetSpatialRef(),outgeomtype=ogr.wkbMultiPolygon)\n",
    "#read the features one by one.\n",
    "inFeature = inlayer.GetNextFeature()\n",
    "rings=[]\n",
    "ringids=[]\n",
    "sttime=time.time()\n",
    "while inFeature:\n",
    "    geom= inFeature.GetGeometryRef()\n",
    "    if geom.GetGeometryName() == 'POLYGON':\n",
    "        if geom.GetGeometryCount()>=1:\n",
    "            for i in xrange(geom.GetGeometryCount()):\n",
    "                ring= geom.GetGeometryRef(i)\n",
    "                shapelyRing= LinearRing(ring.GetPoints())\n",
    "                if not shapelyRing.is_ccw:\n",
    "                    shapelyRing= LinearRing(reversed(ring.GetPoints()))\n",
    "                rings+=[shapelyRing]\n",
    "                try:\n",
    "                    #print(\"ringid\"),int(inFeature.GetField(0))\n",
    "                    ringids+=[int(inFeature.GetField(0))]#ringids+=['p'+str(inFeature.GetField(0))+'r'+str(i)]\n",
    "                except:\n",
    "                    raise ValueError(\"Feature ids must be integer.\")\n",
    "    inFeature = inlayer.GetNextFeature()\n",
    "inFeature=shp=driver=None\n",
    "#end-while\n",
    "print(\"Completed finding all the polygons as rings in the shape file.\"),len(rings),len(ringids) #list of references to rings, list of ids for the rings.\n",
    "print(\"time: {0:.3f}\".format(time.time()-st))\n",
    "outfilename=ntpath.basename(srcshpfile).split(\".\")[0]"
   ]
  },
  {
   "cell_type": "code",
   "execution_count": 2,
   "metadata": {},
   "outputs": [
    {
     "name": "stdout",
     "output_type": "stream",
     "text": [
      "Completed listing segments from all the rings/polygon (56282, 5)\n",
      "time: 0.331\n"
     ]
    },
    {
     "data": {
      "text/plain": [
       "{'og': [(55153, 1), (55191, 1)], 'og,L.shape': [(56282, 5)]}"
      ]
     },
     "execution_count": 2,
     "metadata": {},
     "output_type": "execute_result"
    }
   ],
   "source": [
    "#collect all the segments in each ring in rings.\n",
    "if type(rings) != list:\n",
    "    rings=[rings]\n",
    "if type(ringids) !=list:\n",
    "    ringids=[ringids]\n",
    "if len(rings) != len(ringids):\n",
    "    raise ValueError(\"Size of rings and their ids did not match.\")\n",
    "\n",
    "st=time.time()\n",
    "L = np.zeros((1,5)) #dummy variable for [rid,x1,y1,x2,y2]\n",
    "for ringid in xrange(len(rings)):\n",
    "    arr=None\n",
    "    ring=rings[ringid]\n",
    "    if not ring.is_ccw:\n",
    "        raise ValueError(\"Polygon ring at index %r is not in anti-clockwise order.\"%ringid)\n",
    "    arr = np.asarray(list(ring.coords)) #x1,y1,z1\n",
    "    if ring.has_z:\n",
    "        arr= arr[:,0:2] #exclude z.\n",
    "    arr = np.hstack((arr[0:-1,:],arr[1:,:])) #shifting x1,y1,x2,y2\n",
    "    rids = np.asarray([ringids[ringid]]*arr.shape[0]).reshape((arr.shape[0],1))\n",
    "    arr = np.hstack((rids,arr))\n",
    "    L = np.vstack((L,arr))\n",
    "#end-for\n",
    "L=L[1:,:] #exclude top row. that are zeros for rid,x1,y1,x2,y2,list of [rid,x1,x2,y1,y2]\n",
    "\n",
    "stat['og,L.shape']=[L.shape]\n",
    "stat['og']=[np.unique(L[:,1:2],axis=0).shape,np.unique(L[:,2:3],axis=0).shape]\n",
    "print(\"Completed listing segments from all the rings/polygon\"), L.shape #rid,x1,y1,x2,y2\n",
    "print(\"time: {0:.3f}\".format(time.time()-st))\n",
    "stat"
   ]
  },
  {
   "cell_type": "code",
   "execution_count": 3,
   "metadata": {},
   "outputs": [
    {
     "name": "stdout",
     "output_type": "stream",
     "text": [
      "     0          1          2          3          4\n",
      "0  0.0 -80.661032  24.900218 -80.660666  24.899147\n",
      "1  0.0 -80.660666  24.899147 -80.660431  24.898460\n",
      "2  0.0 -80.660431  24.898460 -80.659485  24.898077\n",
      "3  0.0 -80.659485  24.898077 -80.657695  24.897354\n",
      "4  0.0 -80.657695  24.897354 -80.656264  24.898582\n",
      "5  0.0 -80.656264  24.898582 -80.653136  24.901102\n",
      "6  0.0 -80.653136  24.901102 -80.650015  24.902918\n",
      "7  0.0 -80.650015  24.902918 -80.646459  24.905191\n",
      "8  0.0 -80.646459  24.905191 -80.641907  24.908400\n",
      "9  0.0 -80.641907  24.908400 -80.636338  24.912276\n"
     ]
    }
   ],
   "source": [
    "import pandas as pd\n",
    "pd.set_option('display.expand_frame_repr', False)\n",
    "print pd.DataFrame(L[0:10,0:])"
   ]
  },
  {
   "cell_type": "code",
   "execution_count": 4,
   "metadata": {},
   "outputs": [
    {
     "name": "stdout",
     "output_type": "stream",
     "text": [
      "Completed co-ordinate transformation (56282, 5) target spatial ref 3395\n",
      "time: 10.568\n",
      "{'og': [(55153, 1), (55191, 1)], 'txn,Lprj.shape': [(56282, 5)], 'og,L.shape': [(56282, 5)], 'txn': [(55153, 1), (55191, 1)]}\n"
     ]
    },
    {
     "data": {
      "text/plain": [
       "(55153,)"
      ]
     },
     "execution_count": 4,
     "metadata": {},
     "output_type": "execute_result"
    }
   ],
   "source": [
    "#Transform Geographic Cordinates to a Projected Cordinate System.\n",
    "epsgdic = {'nad83':4269,'wgs84':4326,'pseudoutm':3857,'worldmercater':3395}\n",
    "def transform_cordinates(segment_tuple,inspref, outref):\n",
    "    rid,x1,y1,x2,y2 = segment_tuple\n",
    "    pointGeom = ogr.Geometry(ogr.wkbPoint)\n",
    "    pointGeom.AssignSpatialReference(inspref)\n",
    "    pointGeom.AddPoint(x1,y1)\n",
    "    pointGeom.TransformTo(outref)\n",
    "    x1,y1 = pointGeom.GetPoint()[0],pointGeom.GetPoint()[1] #lat,lon\n",
    "    #\n",
    "    #pointGeom = ogr.Geometry(ogr.wkbPoint)\n",
    "    pointGeom.AssignSpatialReference(inspref)\n",
    "    pointGeom.AddPoint(x2,y2)\n",
    "    pointGeom.TransformTo(outref)\n",
    "    x2,y2 = pointGeom.GetPoint()[0],pointGeom.GetPoint()[1]\n",
    "    return [rid,x1,y1,x2,y2]\n",
    "\n",
    "outprjref = osr.SpatialReference()\n",
    "outprjref.ImportFromEPSG(epsgdic[\"worldmercater\"])\n",
    "st= time.time()\n",
    "Lprj = np.apply_along_axis(transform_cordinates,1,L,inspref, outprjref) #rid,x1,y1,x2,y2\n",
    "print(\"Completed co-ordinate transformation\"), Lprj.shape, \"target spatial ref\", epsgdic[\"worldmercater\"]\n",
    "print(\"time: {0:.3f}\".format(time.time()-st))\n",
    "#save Lp in .shp file, save outprj in .prj file\n",
    "outfilename=outfilename+'.prj'\n",
    "\n",
    "stat['txn,Lprj.shape']=[Lprj.shape]\n",
    "stat['txn']=[np.unique(Lprj[:,1:2],axis=0).shape,np.unique(Lprj[:,2:3],axis=0).shape]\n",
    "print stat\n",
    "np.unique(np.vstack((Lprj[:,1:2],Lprj[:,3:4]))).shape"
   ]
  },
  {
   "cell_type": "code",
   "execution_count": 5,
   "metadata": {},
   "outputs": [
    {
     "name": "stdout",
     "output_type": "stream",
     "text": [
      "     0             1             2             3             4\n",
      "0  0.0 -8.979145e+06  2.845509e+06 -8.979104e+06  2.845378e+06\n",
      "1  0.0 -8.979104e+06  2.845378e+06 -8.979078e+06  2.845295e+06\n",
      "2  0.0 -8.979078e+06  2.845295e+06 -8.978973e+06  2.845248e+06\n",
      "3  0.0 -8.978973e+06  2.845248e+06 -8.978774e+06  2.845160e+06\n",
      "4  0.0 -8.978774e+06  2.845160e+06 -8.978614e+06  2.845309e+06\n",
      "5  0.0 -8.978614e+06  2.845309e+06 -8.978266e+06  2.845617e+06\n",
      "6  0.0 -8.978266e+06  2.845617e+06 -8.977919e+06  2.845839e+06\n",
      "7  0.0 -8.977919e+06  2.845839e+06 -8.977523e+06  2.846116e+06\n",
      "8  0.0 -8.977523e+06  2.846116e+06 -8.977016e+06  2.846508e+06\n",
      "9  0.0 -8.977016e+06  2.846508e+06 -8.976396e+06  2.846981e+06\n"
     ]
    }
   ],
   "source": [
    "print pd.DataFrame(Lprj[0:10,0:])"
   ]
  },
  {
   "cell_type": "code",
   "execution_count": 6,
   "metadata": {},
   "outputs": [
    {
     "name": "stdout",
     "output_type": "stream",
     "text": [
      "(56282, 1)\n",
      "max dist [71786.04773421] [[   0.         -112.36503005   48.99884087 -113.009895     48.998619  ]]\n",
      "min dist [0.05969216] [[   0.         -106.246203     31.541153   -106.24620281   31.54115257]]\n"
     ]
    }
   ],
   "source": [
    "#calculate Maximum/Minimum distance between any two connected points\n",
    "dist=euclidian(Lprj[0:,1:5])\n",
    "print dist.shape\n",
    "print\"max dist\",dist.max(axis=0),L[dist.argmax(axis=0)]\n",
    "print \"min dist\",dist.min(axis=0),L[dist.argmin(axis=0)]"
   ]
  },
  {
   "cell_type": "code",
   "execution_count": 7,
   "metadata": {},
   "outputs": [
    {
     "name": "stdout",
     "output_type": "stream",
     "text": [
      "Completed end-point swapping (56282, 8) float64\n",
      "min x: -13,885,233.4147, y: 2,845,159.55756\n",
      "max x: -7,452,828.22006, y: 6,307,879.04091\n",
      "time: 0.181\n",
      "{'txn': [(55153, 1), (55191, 1)], 'og': [(55153, 1), (55191, 1)], 'txn,Lprj.shape': [(56282, 5)], '2swp,Lswp.shape': [(56282, 8)], '2swp': [(51190,), (51127,)], 'og,L.shape': [(56282, 5)]}\n"
     ]
    },
    {
     "data": {
      "text/plain": [
       "(55153,)"
      ]
     },
     "execution_count": 7,
     "metadata": {},
     "output_type": "execute_result"
    }
   ],
   "source": [
    "#Swap points A(x1,y1) and B(x2,y2) if x1 > x2, mark the swapping.\n",
    "Lswp=Lprj[0:,:]\n",
    "st = time.time()\n",
    "m,n = Lswp.shape\n",
    "isswapped = np.zeros(m).reshape(m,1)\n",
    "Lswp = np.hstack((Lswp,isswapped))\n",
    "def swap_endpoints(c):\n",
    "    if c[3] < c[1]:\n",
    "        t1,t2 = c[1],c[2]\n",
    "        c[1]= c[3];c[2] =c[4];c[3] = t1;c[4] = t2; c[5] = 1\n",
    "    return c\n",
    "Lswp = np.apply_along_axis(swap_endpoints,1,Lswp) #arr --> [rid,x1,y1,x2,y2,iswp?]\n",
    "inf = np.asarray([INF]*m).reshape(m,1) #without dummy first row; right-labels for each rid.\n",
    "Lswp = np.hstack((Lswp,Lswp[:,0:1],inf)) #arr--> [rid,x1,y1,x2,y2,iswp?,L-labels,R-labels] #left-labels for each rid.\n",
    "print(\"Completed end-point swapping\"), Lswp.shape,Lswp.dtype\n",
    "\n",
    "print \"min x: {0:,}, y: {1:,}\".format(*minxy(*np.min(Lswp[0:,1:5],axis=0)))\n",
    "print \"max x: {0:,}, y: {1:,}\".format(*maxxy(*np.max(Lswp[0:,1:5],axis=0)))\n",
    "\n",
    "print(\"time: {0:.3f}\".format(time.time()-st))\n",
    "outfilename=outfilename\n",
    "\n",
    "stat['2swp,Lswp.shape']=[Lswp.shape]\n",
    "stat['2swp']=[np.unique(Lswp[:,1:2]).shape,np.unique(Lswp[:,2:3]).shape]\n",
    "print stat\n",
    "np.unique(np.vstack((Lswp[:,1:2],Lswp[:,3:4]))).shape"
   ]
  },
  {
   "cell_type": "code",
   "execution_count": 8,
   "metadata": {},
   "outputs": [
    {
     "name": "stdout",
     "output_type": "stream",
     "text": [
      "     0             1             2             3             4    5    6      7\n",
      "0  0.0 -8.979145e+06  2.845509e+06 -8.979104e+06  2.845378e+06  0.0  0.0  999.0\n",
      "1  0.0 -8.979104e+06  2.845378e+06 -8.979078e+06  2.845295e+06  0.0  0.0  999.0\n",
      "2  0.0 -8.979078e+06  2.845295e+06 -8.978973e+06  2.845248e+06  0.0  0.0  999.0\n",
      "3  0.0 -8.978973e+06  2.845248e+06 -8.978774e+06  2.845160e+06  0.0  0.0  999.0\n",
      "4  0.0 -8.978774e+06  2.845160e+06 -8.978614e+06  2.845309e+06  0.0  0.0  999.0\n",
      "5  0.0 -8.978614e+06  2.845309e+06 -8.978266e+06  2.845617e+06  0.0  0.0  999.0\n",
      "6  0.0 -8.978266e+06  2.845617e+06 -8.977919e+06  2.845839e+06  0.0  0.0  999.0\n",
      "7  0.0 -8.977919e+06  2.845839e+06 -8.977523e+06  2.846116e+06  0.0  0.0  999.0\n",
      "8  0.0 -8.977523e+06  2.846116e+06 -8.977016e+06  2.846508e+06  0.0  0.0  999.0\n",
      "9  0.0 -8.977016e+06  2.846508e+06 -8.976396e+06  2.846981e+06  0.0  0.0  999.0\n"
     ]
    }
   ],
   "source": [
    "print pd.DataFrame(Lswp[0:10,0:])"
   ]
  },
  {
   "cell_type": "code",
   "execution_count": 9,
   "metadata": {},
   "outputs": [
    {
     "data": {
      "text/plain": [
       "(56282, 8)"
      ]
     },
     "execution_count": 9,
     "metadata": {},
     "output_type": "execute_result"
    }
   ],
   "source": [
    "stat={}\n",
    "Lswp.shape"
   ]
  },
  {
   "cell_type": "code",
   "execution_count": 10,
   "metadata": {
    "scrolled": true
   },
   "outputs": [
    {
     "name": "stdout",
     "output_type": "stream",
     "text": [
      "Top/Bottom labeling started; got segment-tuples of size  (56282, 8) <type 'numpy.ndarray'>\n",
      "     0    1             2             3             4             5    6    7      8\n",
      "0  0.0  0.0 -8.979145e+06  2.845509e+06 -8.979104e+06  2.845378e+06  0.0  0.0  999.0\n",
      "1  1.0  0.0 -8.979104e+06  2.845378e+06 -8.979078e+06  2.845295e+06  0.0  0.0  999.0\n",
      "2  2.0  0.0 -8.979078e+06  2.845295e+06 -8.978973e+06  2.845248e+06  0.0  0.0  999.0\n",
      "3  3.0  0.0 -8.978973e+06  2.845248e+06 -8.978774e+06  2.845160e+06  0.0  0.0  999.0\n",
      "4  4.0  0.0 -8.978774e+06  2.845160e+06 -8.978614e+06  2.845309e+06  0.0  0.0  999.0\n",
      "5  5.0  0.0 -8.978614e+06  2.845309e+06 -8.978266e+06  2.845617e+06  0.0  0.0  999.0\n",
      "6  6.0  0.0 -8.978266e+06  2.845617e+06 -8.977919e+06  2.845839e+06  0.0  0.0  999.0\n",
      "7  7.0  0.0 -8.977919e+06  2.845839e+06 -8.977523e+06  2.846116e+06  0.0  0.0  999.0\n",
      "8  8.0  0.0 -8.977523e+06  2.846116e+06 -8.977016e+06  2.846508e+06  0.0  0.0  999.0\n",
      "9  9.0  0.0 -8.977016e+06  2.846508e+06 -8.976396e+06  2.846981e+06  0.0  0.0  999.0\n",
      "         0    1             2             3             4             5    6    7      8\n",
      "0  37082.0  0.0 -1.388523e+07  6.102229e+06 -1.388519e+07  6.102552e+06  1.0  0.0  999.0\n",
      "1  37083.0  0.0 -1.388523e+07  6.102229e+06 -1.388507e+07  6.101732e+06  0.0  0.0  999.0\n",
      "2  37081.0  0.0 -1.388519e+07  6.102552e+06 -1.388507e+07  6.103328e+06  1.0  0.0  999.0\n",
      "3  37011.0  0.0 -1.388508e+07  6.138542e+06 -1.388498e+07  6.137714e+06  0.0  0.0  999.0\n",
      "4  37010.0  0.0 -1.388508e+07  6.138542e+06 -1.388507e+07  6.138553e+06  1.0  0.0  999.0\n",
      "5  37009.0  0.0 -1.388507e+07  6.138553e+06 -1.388485e+07  6.138823e+06  1.0  0.0  999.0\n",
      "6  37080.0  0.0 -1.388507e+07  6.103328e+06 -1.388431e+07  6.103736e+06  1.0  0.0  999.0\n",
      "7  37084.0  0.0 -1.388507e+07  6.101732e+06 -1.388480e+07  6.101439e+06  0.0  0.0  999.0\n",
      "8  37012.0  0.0 -1.388498e+07  6.137714e+06 -1.388458e+07  6.137454e+06  0.0  0.0  999.0\n",
      "9  37008.0  0.0 -1.388485e+07  6.138823e+06 -1.388455e+07  6.139195e+06  1.0  0.0  999.0\n",
      "Completed labeling top/bottom for the segments. (56282, 8)\n",
      "time: 15.724\n"
     ]
    },
    {
     "data": {
      "text/plain": [
       "{'lbl': [(51190, 1), (51127, 1)], 'lbl,Lprj.shape': [(56282, 8)]}"
      ]
     },
     "execution_count": 10,
     "metadata": {},
     "output_type": "execute_result"
    }
   ],
   "source": [
    "#Given end-points A(x1,x2), B(x2,y2) with origin A, dest B, (if is swapped=1, then origin is B, dest A.)\n",
    "print(\"Top/Bottom labeling started; got segment-tuples of size \"), Lswp.shape, type(Lswp)\n",
    "cnt=0\n",
    "st = time.time()\n",
    "idx = np.array([i for i in range(Lswp.shape[0])]).reshape(Lswp.shape[0],1)\n",
    "L= np.hstack((idx,Lswp))\n",
    "print pd.DataFrame(L[0:10,0:])\n",
    "L = L[L[:,2].argsort()] #sort by x1.;#L= sorted(L, key=lambda t: t[1]) \n",
    "print pd.DataFrame(L[0:10,0:])\n",
    "#append isvisited? column\n",
    "idx=L[:,0:1] #initial idx.\n",
    "L=L[:,1:]\n",
    "##\n",
    "isvisited = np.zeros((len(L),1))\n",
    "L = np.hstack((L,isvisited)) #L's columns--> [rid,x1,y1,x2,y2,iswp?,rid-left,rid-right,isvisited?]\n",
    "for ti in range(len(L)): #each tuple-index\n",
    "    t = L[ti] #[rid,x1,y1,x2,y2,iswp?,rid-left,rid-right,isvisited?]\n",
    "    polyid,s1x1,s1y1,s1x2,s1y2,s1isswapped = t[0:6]\n",
    "    #check is swapped.\n",
    "    if s1isswapped:x1,y1,x2,y2 = s1x2,s1y2,s1x1,s1y1 #get original arrangement of points for the seg.\n",
    "    else:x1,y1,x2,y2 = s1x1,s1y1,s1x2,s1y2\n",
    "    if t[-1] == False: #not visited\n",
    "        for nti in range(ti+1,len(L)):#new tuple index\n",
    "            newt = L[nti]\n",
    "            polyid_p,s2x1,s2y1,s2x2,s2y2,s2isswapped = newt[0:6]\n",
    "            if s1x1 < s2x1: #no matching segment found\n",
    "                break\n",
    "            if eqsegment((s1x1,s1y1),(s1x2,s1y2),(s2x1,s2y1),(s2x2,s2y2)):\n",
    "                cnt+=1\n",
    "                #visited !!\n",
    "                t[-1]=True\n",
    "                newt[-1]=True #visited\n",
    "                #now do casw-wise.\n",
    "                if x1 < x2: #not swapped\n",
    "                    t[6] = polyid #top\n",
    "                    t[7] = polyid_p #bot\n",
    "                    newt[6] =  polyid#same code.\n",
    "                    newt[7] = polyid_p\n",
    "                    break\n",
    "                elif x1 > x2:\n",
    "                    t[6] = polyid_p#top\n",
    "                    t[7] = polyid#bot\n",
    "                    newt[6] = polyid_p\n",
    "                    newt[7] = polyid\n",
    "                    break\n",
    "                elif x1 == x2:\n",
    "                    if y1 < y2: #vup\n",
    "                        t[6] = polyid #top\n",
    "                        t[7] = polyid_p #bot\n",
    "                        newt[6] = polyid_p\n",
    "                        newt[7] = polyid  \n",
    "                        break\n",
    "                    elif y1 > y2: #vdown\n",
    "                        t[6] = polyid_p #top\n",
    "                        t[7] = polyid #bot\n",
    "                        newt[6] = polyid_p  \n",
    "                        newt[7] = polyid   \n",
    "                        break  #exit form current loop.\n",
    "        #end-for\n",
    "        if t[-1] == False: #this segment is no shared by any other rings.\n",
    "            t[-1]=True #now visti\n",
    "            if x1 < x2:\n",
    "                t[6] = polyid #top\n",
    "                t[7] = INF #bot\n",
    "            elif x1 > x2:\n",
    "                t[6] = INF #top\n",
    "                t[7] = polyid #bot\n",
    "            elif x1 == x2:\n",
    "                if y1 < y2: #vup\n",
    "                    t[6] = polyid #top\n",
    "                    t[7] = INF #bot\n",
    "                elif y1 > y2: #vdown\n",
    "                    t[6] = INF #top\n",
    "                    t[7] = polyid #bot\n",
    "        #end-if\n",
    "    #end-if\n",
    "L = L[0:,0:-1]#exclude isvisited col.\n",
    "L = np.hstack((idx,L))\n",
    "L = L[L[:,0].argsort()] #sort by index again.\n",
    "L = L[0:,1:] #exclude idx.\n",
    "#sL = L[L[:,0].argsort()] #sort by state-id <rid,x1,y1,x2,y2,isswp,topl,botl> #whis does not order the points.\n",
    "sL = L\n",
    "print \"Completed labeling top/bottom for the segments.\", sL.shape\n",
    "print(\"time: {0:.3f}\".format(time.time()-st))\n",
    "outfilename=outfilename+'.lbl'\n",
    "\n",
    "stat['lbl,Lprj.shape']=[sL.shape]\n",
    "stat['lbl']=[np.unique(sL[:,1:2],axis=0).shape,np.unique(sL[:,2:3],axis=0).shape]\n",
    "stat"
   ]
  },
  {
   "cell_type": "code",
   "execution_count": 11,
   "metadata": {},
   "outputs": [
    {
     "name": "stdout",
     "output_type": "stream",
     "text": [
      "     0             1             2             3             4    5    6      7\n",
      "0  0.0 -8.979145e+06  2.845509e+06 -8.979104e+06  2.845378e+06  0.0  0.0  999.0\n",
      "1  0.0 -8.979104e+06  2.845378e+06 -8.979078e+06  2.845295e+06  0.0  0.0  999.0\n",
      "2  0.0 -8.979078e+06  2.845295e+06 -8.978973e+06  2.845248e+06  0.0  0.0  999.0\n",
      "3  0.0 -8.978973e+06  2.845248e+06 -8.978774e+06  2.845160e+06  0.0  0.0  999.0\n",
      "4  0.0 -8.978774e+06  2.845160e+06 -8.978614e+06  2.845309e+06  0.0  0.0  999.0\n",
      "5  0.0 -8.978614e+06  2.845309e+06 -8.978266e+06  2.845617e+06  0.0  0.0  999.0\n",
      "6  0.0 -8.978266e+06  2.845617e+06 -8.977919e+06  2.845839e+06  0.0  0.0  999.0\n",
      "7  0.0 -8.977919e+06  2.845839e+06 -8.977523e+06  2.846116e+06  0.0  0.0  999.0\n",
      "8  0.0 -8.977523e+06  2.846116e+06 -8.977016e+06  2.846508e+06  0.0  0.0  999.0\n",
      "9  0.0 -8.977016e+06  2.846508e+06 -8.976396e+06  2.846981e+06  0.0  0.0  999.0\n"
     ]
    }
   ],
   "source": [
    "print pd.DataFrame(L[0:10,0:])"
   ]
  },
  {
   "cell_type": "code",
   "execution_count": 12,
   "metadata": {},
   "outputs": [
    {
     "name": "stdout",
     "output_type": "stream",
     "text": [
      "Completed Translation to first quadrant. (56282, 8)\n",
      "min x,y (6152274.928091211, 18341730.29726051)\n",
      "max x,y (12584680.122736868, 21804449.780606803)\n",
      "time: 0.022\n"
     ]
    }
   ],
   "source": [
    "#Translate to first quadrant\n",
    "import matrices as MATRIX\n",
    "reload(MATRIX)\n",
    "try:\n",
    "    TVECTOR = pickle.load(open(home+r'out/translation_vector.p','rb'))\n",
    "except:\n",
    "    TVECTOR = pickle.load(open(home+r'out/translation_vectorwin.p','rb')) #supported by windows.\n",
    "\n",
    "st = time.time()\n",
    "TM = MATRIX.translationMatrix(-TVECTOR['xoff'],-TVECTOR['yoff'],0,ndim=2)\n",
    "m,n = sL[0:, 1:5].shape\n",
    "\n",
    "#translation of first end-points\n",
    "Lp1 = sL[0:,1:3] #first end-points\n",
    "ones = np.ones(m).reshape(m,1)\n",
    "Lp1 = np.hstack((Lp1,ones))\n",
    "TLp1 = np.dot(Lp1,TM) #exclude ?iswap column.\n",
    "n=Lp1 = None\n",
    "\n",
    "#translation of second end-points\n",
    "Lp2= sL[0:,3:5] #second end-points\n",
    "Lp2 = np.hstack((Lp2,ones)) \n",
    "TLp2 = np.hstack((Lp2,ones))\n",
    "TLp2 = np.dot(Lp2, TM)[0:]\n",
    "m=ones=Lp2 = None\n",
    "\n",
    "TL = np.hstack((sL[0:,0:1],TLp1[:,:-1],TLp2[:,:-1],sL[:,5:])) #rid,x1,y1,x2,y2,swp?Top,Bot\n",
    "sL=Tp1=Tp2=None\n",
    "\n",
    "#outfilename=outfilename+'.txn'\n",
    "print(\"Completed Translation to first quadrant.\"), TL.shape\n",
    "print \"min x,y\",minxy(*np.min(TL[0:,1:5],axis=0))\n",
    "print \"max x,y\",maxxy(*np.max(TL[0:,1:5],axis=0))\n",
    "print(\"time: {0:.3f}\".format(time.time()-st))\n",
    "outfilename=outfilename+'.txn'"
   ]
  },
  {
   "cell_type": "code",
   "execution_count": 13,
   "metadata": {},
   "outputs": [
    {
     "name": "stdout",
     "output_type": "stream",
     "text": [
      "Completed factoring by 100 and rounding to int. (56282, 8)\n",
      "min x: 615,227,493, y:1,834,173,030.0\n",
      "max x: 1,258,468,012, y:2,180,444,978.0\n",
      "\n",
      "permissible 32 bit x,y? Ans: True\n"
     ]
    }
   ],
   "source": [
    "#Round and Make x1,y1,x2, y1 into Integers\n",
    "import sys\n",
    "np.set_printoptions(precision=6)\n",
    "np.set_printoptions(suppress=True)\n",
    "\n",
    "mfactor=100#multiply x1,x2,y1,y2 by 100 and then round.\n",
    "TL1 = np.hstack((TL[0:,0:1], np.round(TL[0:,1:5]*mfactor,0), TL[0:, 5:]))#rid, r\n",
    "#round(x1,y1,x2,y2),isswp?,Top,Bot\n",
    "\n",
    "print(\"Completed factoring by 100 and rounding to int.\"),TL1.shape\n",
    "\n",
    "print \"min x: {0:,.0f}, y:{1:,}\".format(*minxy(*np.min(TL1[0:,1:5],axis=0)))\n",
    "print \"max x: {0:,.0f}, y:{1:,}\".format(*maxxy(*np.max(TL1[0:,1:5],axis=0))) +\"\\n\"\n",
    "print \"permissible 32 bit x,y? Ans:\",4294967295 > max(maxxy(*np.max(TL1[0:,1:5],axis=0)))\n",
    "outfilename=outfilename+'.int'"
   ]
  },
  {
   "cell_type": "code",
   "execution_count": 18,
   "metadata": {},
   "outputs": [
    {
     "name": "stdout",
     "output_type": "stream",
     "text": [
      "(56282, 8)\n",
      "(56282, 8)\n",
      "data saved in ../out/tmp/usa.prj.lbl.txn.int.txt\n"
     ]
    }
   ],
   "source": [
    "#Annotate polygion-ids by polygon-names like state-names. \n",
    "def annotate_top_bot(tup,SC):\n",
    "    try:\n",
    "        tup[0] = SC[int(tup[0])].replace(\" \", \"\")[0:10]\n",
    "    except:\n",
    "        pass\n",
    "    try:\n",
    "        tup[-1] = SC[int(tup[-1])].replace(\" \", \"\")[0:10]\n",
    "    except:\n",
    "        pass\n",
    "    try:\n",
    "        tup[-2] =SC[int(tup[-2])].replace(\" \", \"\")[0:10]\n",
    "    except Exception, e:\n",
    "        pass\n",
    "    return tup\n",
    "\n",
    "try:\n",
    "    SC = pickle.load(open(home+'out/state_dic.p','rb'))\n",
    "except:\n",
    "    SC = pickle.load(open(home+'out/state_dicwin.p','rb'))\n",
    "\n",
    "arr=TL1[0:,0:]\n",
    "arr = arr.astype(object)\n",
    "print arr.shape\n",
    "np.apply_along_axis(annotate_top_bot,1,arr,SC)\n",
    "print arr.shape\n",
    "if not os.path.exists(destdir):\n",
    "    os.makedirs(destdir)\n",
    "np.savetxt(destdir+outfilename+'.txt',arr[0:,0:],fmt='%d '+ '%010d '*4+'%0d '+'%d '+'%d',header=\"state intx1 inty1 intx2 inty2 isswp top bot\")\n",
    "print \"data saved in {0}\".format(destdir+outfilename+'.txt')"
   ]
  },
  {
   "cell_type": "code",
   "execution_count": 15,
   "metadata": {},
   "outputs": [],
   "source": [
    "#sanity check by ploting the segments."
   ]
  },
  {
   "cell_type": "code",
   "execution_count": 16,
   "metadata": {},
   "outputs": [
    {
     "data": {
      "text/plain": [
       "'\\n#plot and see if a map is correct.\\n\\nimport matplotlib.pyplot as plt\\nimport numpy as np\\nimport matplotlib\\n\\ni,j = np.where(TL1[0:,0:1] == 18)\\nselpoints = TL1[(i,j),1:3][0]/1000\\nring = selpoints.tolist()\\nprint ring[0], ring[-1]\\nring = ring+ ring[0:1]\\nprint ring[0], ring[-1]\\nring =ring \\n# Fixing random state for reproducibility\\nx=[t[0] for t in ring]\\ny=[t[1] for t in ring]\\nplt.plot(x, y,c=\"g\", alpha=0.5, marker=\\'.\\',\\n            label=\"Luck\")\\nplt.xlabel(\"Leprechauns\")\\nplt.ylabel(\"Gold\")\\nplt.legend(loc=2)\\nplt.show()\\nfrom shapely.geometry import LinearRing,Point,mapping\\nshring1 = LinearRing(ring)\\nshring1\\n'"
      ]
     },
     "execution_count": 16,
     "metadata": {},
     "output_type": "execute_result"
    }
   ],
   "source": [
    "'''\n",
    "#plot and see if a map is correct.\n",
    "\n",
    "import matplotlib.pyplot as plt\n",
    "import numpy as np\n",
    "import matplotlib\n",
    "\n",
    "i,j = np.where(TL1[0:,0:1] == 18)\n",
    "selpoints = TL1[(i,j),1:3][0]/1000\n",
    "ring = selpoints.tolist()\n",
    "print ring[0], ring[-1]\n",
    "ring = ring+ ring[0:1]\n",
    "print ring[0], ring[-1]\n",
    "ring =ring \n",
    "# Fixing random state for reproducibility\n",
    "x=[t[0] for t in ring]\n",
    "y=[t[1] for t in ring]\n",
    "plt.plot(x, y,c=\"g\", alpha=0.5, marker='.',\n",
    "            label=\"Luck\")\n",
    "plt.xlabel(\"Leprechauns\")\n",
    "plt.ylabel(\"Gold\")\n",
    "plt.legend(loc=2)\n",
    "plt.show()\n",
    "from shapely.geometry import LinearRing,Point,mapping\n",
    "shring1 = LinearRing(ring)\n",
    "shring1\n",
    "'''"
   ]
  },
  {
   "cell_type": "code",
   "execution_count": 17,
   "metadata": {},
   "outputs": [
    {
     "name": "stdout",
     "output_type": "stream",
     "text": [
      "[0.]\n",
      "../out/tmp/usa.prj.lbl.txn.int.shp\n"
     ]
    }
   ],
   "source": [
    "from shapely.geometry import LinearRing,Point,mapping\n",
    "print np.unique(TL1[0:,0:1])\n",
    "#load initial vertex order files.\n",
    "#save to shp.\n",
    "outputShapefile=destdir+outfilename+'.shp'\n",
    "driver = ogr.GetDriverByName('ESRI Shapefile')\n",
    "outprjref = osr.SpatialReference()\n",
    "outprjref.ImportFromEPSG(epsgdic[\"worldmercater\"])\n",
    "\n",
    "if os.path.exists(outputShapefile):\n",
    "    driver.DeleteDataSource(outputShapefile)\n",
    "outDataSet = driver.CreateDataSource(outputShapefile)\n",
    "outLayer = outDataSet.CreateLayer(\"mystates\", outprjref, geom_type=ogr.wkbMultiPolygon)\n",
    "outLayer.CreateField(ogr.FieldDefn('STATEFP'),ogr.OFTInteger)\n",
    "outLayerDefn = outLayer.GetLayerDefn()\n",
    "\n",
    "##assume that the boundary points are in order in the array.\n",
    "for polyid in np.unique(TL1[0:,0:1]):\n",
    "    i,j = np.where(TL1[0:,0:1] == polyid)\n",
    "    selpoints = TL1[(i,j),1:6][0] #\n",
    "    \n",
    "    poly = ogr.Geometry(ogr.wkbPolygon)\n",
    "    ring = ogr.Geometry(ogr.wkbLinearRing)\n",
    "    \n",
    "    def original_dirn(segment_tup):\n",
    "        x1,y1,x2,y2,iswp=segment_tup\n",
    "        if int(iswp):\n",
    "            ring.AddPoint(x2,y2)\n",
    "            return []\n",
    "        ring.AddPoint(x1,y1)\n",
    "        return []\n",
    "        \n",
    "    selpoints = np.apply_along_axis(original_dirn,1,selpoints)\n",
    "    pts = selpoints.tolist()\n",
    "    #pts +=pts + pts[0:1] #completing list.\n",
    "    poly.AddGeometry(ring)\n",
    "\n",
    "    outFeature = ogr.Feature(outLayerDefn)\n",
    "    outFeature.SetGeometry(poly)\n",
    "    outFeature.SetField(outLayerDefn.GetFieldDefn(0).GetNameRef(), polyid)\n",
    "    outLayer.CreateFeature(outFeature)\n",
    "\n",
    "#end-for\n",
    "outLayer=outFeature=poly=plist=ring=outLayerDefn=outLayer=outDataSet=None\n",
    "print outputShapefile"
   ]
  },
  {
   "cell_type": "code",
   "execution_count": null,
   "metadata": {},
   "outputs": [],
   "source": []
  }
 ],
 "metadata": {
  "kernelspec": {
   "display_name": "Python 2",
   "language": "python",
   "name": "python2"
  },
  "language_info": {
   "codemirror_mode": {
    "name": "ipython",
    "version": 2
   },
   "file_extension": ".py",
   "mimetype": "text/x-python",
   "name": "python",
   "nbconvert_exporter": "python",
   "pygments_lexer": "ipython2",
   "version": "2.7.15"
  }
 },
 "nbformat": 4,
 "nbformat_minor": 1
}
