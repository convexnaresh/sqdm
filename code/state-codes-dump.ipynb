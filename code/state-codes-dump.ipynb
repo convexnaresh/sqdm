{
 "cells": [
  {
   "cell_type": "code",
   "execution_count": 4,
   "metadata": {
    "collapsed": true
   },
   "outputs": [],
   "source": [
    "#Create Pickle for State-Codes\n",
    "import numpy as np\n",
    "import pickle\n",
    "\n",
    "home =r'/home/naresh-1/workspace/machinelrn/data/gis/'\n",
    "stcodefile=home+'states-codes.csv'\n",
    "SC=np.genfromtxt(stcodefile,delimiter=',',dtype=str)\n",
    "state_dic = {}\n",
    "for tup in SC:\n",
    "    state_dic[int(tup[1])] = str(tup[2])\n",
    "state_dic[999]='GlOBE'\n",
    "state_dic[0] = 'USA'\n",
    "pickle.dump(state_dic,open(home+'state_dic.p', \"wb\" ))\n",
    "SC = pickle.load(open(home+'state_dic.p','rb'))"
   ]
  },
  {
   "cell_type": "code",
   "execution_count": null,
   "metadata": {
    "collapsed": true
   },
   "outputs": [],
   "source": []
  }
 ],
 "metadata": {
  "kernelspec": {
   "display_name": "Python 2",
   "language": "python",
   "name": "python2"
  },
  "language_info": {
   "codemirror_mode": {
    "name": "ipython",
    "version": 2
   },
   "file_extension": ".py",
   "mimetype": "text/x-python",
   "name": "python",
   "nbconvert_exporter": "python",
   "pygments_lexer": "ipython2",
   "version": "2.7.15"
  }
 },
 "nbformat": 4,
 "nbformat_minor": 1
}
