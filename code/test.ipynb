{
 "cells": [
  {
   "cell_type": "code",
   "execution_count": 4,
   "metadata": {
    "collapsed": false
   },
   "outputs": [
    {
     "name": "stdout",
     "output_type": "stream",
     "text": [
      "<type 'str'>\n",
      "<type 'unicode'>\n"
     ]
    }
   ],
   "source": [
    "my_str = \"hello world\"\n",
    "my_str_as_bytes = str.encode(my_str)\n",
    "print type(my_str_as_bytes) # ensure it is byte representation\n",
    "my_decoded_str = my_str_as_bytes.decode()\n",
    "print type(my_decoded_str) # ensure it is string representation"
   ]
  },
  {
   "cell_type": "code",
   "execution_count": 1,
   "metadata": {
    "collapsed": true
   },
   "outputs": [],
   "source": [
    "from S import S"
   ]
  },
  {
   "cell_type": "code",
   "execution_count": 2,
   "metadata": {
    "collapsed": true
   },
   "outputs": [],
   "source": [
    "a = S()"
   ]
  },
  {
   "cell_type": "code",
   "execution_count": 5,
   "metadata": {
    "collapsed": false
   },
   "outputs": [],
   "source": [
    "a.castToDict()\n",
    "from datastructures import S"
   ]
  },
  {
   "cell_type": "code",
   "execution_count": 43,
   "metadata": {
    "collapsed": false
   },
   "outputs": [
    {
     "data": {
      "text/plain": [
       "'5e5a8604bdc092cf3fea49f1dfe727ec16f8dc91081f02f8c65f4630'"
      ]
     },
     "execution_count": 43,
     "metadata": {},
     "output_type": "execute_result"
    }
   ],
   "source": [
    "import sys\n",
    "import hashlib\n",
    "if sys.version_info < (3, 6):\n",
    "    import sha3\n",
    "import datastructures as DS\n",
    "hashlib.sha224('sdf').hexdigest()"
   ]
  },
  {
   "cell_type": "code",
   "execution_count": 46,
   "metadata": {
    "collapsed": false
   },
   "outputs": [
    {
     "name": "stdout",
     "output_type": "stream",
     "text": [
      "sha3_224\n",
      "28\n"
     ]
    },
    {
     "data": {
      "text/plain": [
       "'940dbe3534ab1a24f77e009a58383701dd827c17bf1e7665d05bb814'"
      ]
     },
     "execution_count": 46,
     "metadata": {},
     "output_type": "execute_result"
    }
   ],
   "source": [
    "import sys\n",
    "import hashlib\n",
    "if sys.version_info < (3, 4):\n",
    "    import sha3\n",
    "    \n",
    "s = hashlib.sha3_224() # alternative\n",
    "print s.name\n",
    "\n",
    "print s.digest_size\n",
    "s.update(b\"data\")\n",
    "s.update(b\"c\")\n",
    "s.hexdigest()"
   ]
  },
  {
   "cell_type": "code",
   "execution_count": 39,
   "metadata": {
    "collapsed": false
   },
   "outputs": [
    {
     "data": {
      "text/plain": [
       "'cc4a5ce1b3df48aec5d22d1f16b894a0b894eccc'"
      ]
     },
     "execution_count": 39,
     "metadata": {},
     "output_type": "execute_result"
    }
   ],
   "source": [
    "h = hashlib.new('ripemd160')\n",
    "h.update(b\"Nobody inspects the spammish repetition\")\n",
    "h.hexdigest()"
   ]
  },
  {
   "cell_type": "code",
   "execution_count": null,
   "metadata": {
    "collapsed": true
   },
   "outputs": [],
   "source": []
  }
 ],
 "metadata": {
  "kernelspec": {
   "display_name": "Python 2",
   "language": "python",
   "name": "python2"
  },
  "language_info": {
   "codemirror_mode": {
    "name": "ipython",
    "version": 2
   },
   "file_extension": ".py",
   "mimetype": "text/x-python",
   "name": "python",
   "nbconvert_exporter": "python",
   "pygments_lexer": "ipython2",
   "version": "2.7.5"
  }
 },
 "nbformat": 4,
 "nbformat_minor": 0
}
