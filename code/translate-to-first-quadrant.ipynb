{
 "cells": [
  {
   "cell_type": "code",
   "execution_count": 6,
   "metadata": {
    "collapsed": false
   },
   "outputs": [
    {
     "name": "stdout",
     "output_type": "stream",
     "text": [
      "object type 'POLYGON'\n",
      "extents inlayer/outlayer (-13885233.414708788, -7452828.220063132, 2845159.5575605105, 6307879.040906803) (61522749281.0, 125846801227.0, 183417302973.0, 218044497806.0)\n",
      "completed cordinate transform.\n"
     ]
    }
   ],
   "source": [
    "#!/usr/bin/python\n",
    "import os\n",
    "from  osgeo import ogr, osr\n",
    "import pickle\n",
    "from affine_transformation import *\n",
    "\n",
    "def GetOutfeature(outLayer, outLayerDefn,geom,inFeature): #copy infeature to outLayer, and sets geom into feature.\n",
    "    outFeature = ogr.Feature(outLayerDefn)\n",
    "    outFeature.SetGeometry(geom)\n",
    "    for i in range(0, outLayerDefn.GetFieldCount()):\n",
    "        outFeature.SetField(outLayerDefn.GetFieldDefn(i).GetNameRef(), inFeature.GetField(i))\n",
    "    return outFeature\n",
    "\n",
    "def createOutLayer(inlayer,outputShapefile, outlayername,outprojref,outgeomtype=ogr.wkbMultiPolygon):\n",
    "    #create a data-set.\n",
    "    outLayer=outLayerDefn=None\n",
    "    if os.path.exists(outputShapefile):\n",
    "        driver.DeleteDataSource(outputShapefile)\n",
    "    outDataSet = driver.CreateDataSource(outputShapefile)\n",
    "    \n",
    "    # create output layer, copy fields from inlayer fielddefn\n",
    "    outLayer = outDataSet.CreateLayer(outlayername,outprojref,geom_type=outgeomtype)\n",
    "    \n",
    "    inLayerDefn = inlayer.GetLayerDefn()\n",
    "    \n",
    "    for i in range(0, inLayerDefn.GetFieldCount()):\n",
    "        fieldDefn = inLayerDefn.GetFieldDefn(i)\n",
    "        outLayer.CreateField(fieldDefn)\n",
    "    \n",
    "    outLayerDefn = outLayer.GetLayerDefn()\n",
    "    return outDataSet,outLayer, outLayerDefn\n",
    "\n",
    "    \n",
    "epsgdic = {'nad83':4269,'wgs84':4326,'pseudoutm':3857,'worldmercater':3395}\n",
    "home =r'/home/naresh-1/workspace/machinelrn/data/gis/'\n",
    "srcshpfile = home + r'out/prj_usa.shp'\n",
    "outputShapefile = home+ r'out/prj.trans.int.usa.shp'\n",
    "tv = pickle.load(open(home+r'out/translation_vector.p','rb'))\n",
    "\n",
    "driver = ogr.GetDriverByName('ESRI Shapefile')\n",
    "shp = driver.Open(srcshpfile)\n",
    "inlayer = shp.GetLayer()\n",
    "outDataSet,outLayer, outLayerDefn = createOutLayer(inlayer,outputShapefile,\"testlayer\",inlayer.GetSpatialRef(),outgeomtype=ogr.wkbMultiPolygon)\n",
    "\n",
    "#read the features one by one.\n",
    "inFeature = inlayer.GetNextFeature()\n",
    "while inFeature:\n",
    "    geom= inFeature.GetGeometryRef()\n",
    "    geom=translate(geom, xoff=-tv['xoff'], yoff=-tv['yoff'], zoff=0.0,enlarge=10000) #xoff val is -ve.#in affine_transformation.\n",
    "    #geom=translate(geom, xoff=-tv['xoff'], yoff=-tv['yoff'], zoff=0.0) #xoff val is -ve.\n",
    "    # get the cover attribute for the input feature\n",
    "    outFeature = GetOutfeature(outLayer, outLayerDefn,geom,inFeature)\n",
    "    outLayer.CreateFeature(outFeature)\n",
    "    \n",
    "    inFeature=outFeature=geom=None\n",
    "    inFeature = inlayer.GetNextFeature()\n",
    "print(\"extents inlayer/outlayer\"),inlayer.GetExtent(), outLayer.GetExtent()\n",
    "shp = None\n",
    "outDataSet = None\n",
    "outLayer=None\n",
    "print(\"completed cordinate transform.\")"
   ]
  },
  {
   "cell_type": "code",
   "execution_count": null,
   "metadata": {
    "collapsed": true
   },
   "outputs": [],
   "source": []
  },
  {
   "cell_type": "code",
   "execution_count": null,
   "metadata": {
    "collapsed": true
   },
   "outputs": [],
   "source": []
  }
 ],
 "metadata": {
  "kernelspec": {
   "display_name": "Python 2",
   "language": "python",
   "name": "python2"
  },
  "language_info": {
   "codemirror_mode": {
    "name": "ipython",
    "version": 2
   },
   "file_extension": ".py",
   "mimetype": "text/x-python",
   "name": "python",
   "nbconvert_exporter": "python",
   "pygments_lexer": "ipython2",
   "version": "2.7.5"
  }
 },
 "nbformat": 4,
 "nbformat_minor": 0
}
